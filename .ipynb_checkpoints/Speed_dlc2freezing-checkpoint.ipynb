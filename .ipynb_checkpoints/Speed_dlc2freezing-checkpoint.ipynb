{
 "cells": [
  {
   "cell_type": "code",
   "execution_count": null,
   "id": "98837e5c",
   "metadata": {},
   "outputs": [],
   "source": [
    "import pandas as pd\n",
    "import numpy as np\n",
    "import os\n",
    "\n",
    "# input filename\n",
    "input_file = '21_7670_Control8_230402DLC_resnet50_haoxiang_experimentJul4shuffle1_500000_filtered_feature_extraction.csv'\n",
    "\n",
    "# read data\n",
    "df = pd.read_csv(input_file)\n",
    "\n",
    "# calculate speed\n",
    "df['prev_x'] = df['x'].shift(1)\n",
    "df['prev_y'] = df['y'].shift(1)\n",
    "df['prev_x.1'] = df['x.1'].shift(1)\n",
    "df['prev_y.1'] = df['y.1'].shift(1)\n",
    "df['prev_x.2'] = df['x.2'].shift(1)\n",
    "df['prev_y.2'] = df['y.2'].shift(1)\n",
    "df['prev_x.3'] = df['x.3'].shift(1)\n",
    "df['prev_y.3'] = df['y.3'].shift(1)\n",
    "df['dx'] = df['x'] - df['prev_x']\n",
    "df['dy'] = df['y'] - df['prev_y']\n",
    "df['speed'] = ((df['dx']**2 + df['dy']**2)**0.5)/0.04\n",
    "df['dx.1'] = df['x.1'] - df['prev_x.1']\n",
    "df['dy.1'] = df['y.1'] - df['prev_y.1']\n",
    "df['speed.1'] = ((df['dx.1']**2 + df['dy.1']**2)**0.5)/0.04\n",
    "df['dx.2'] = df['x.2'] - df['prev_x.2']\n",
    "df['dy.2'] = df['y.2'] - df['prev_y.2']\n",
    "df['speed.2'] = ((df['dx.2']**2 + df['dy.2']**2)**0.5)/0.04\n",
    "df['dx.3'] = df['x.3'] - df['prev_x.3']\n",
    "df['dy.3'] = df['y.3'] - df['prev_y.3']\n",
    "df['speed.3'] = ((df['dx.3']**2 + df['dy.3']**2)**0.5)/0.04\n",
    "speed_data = pd.concat([df['speed'], df['speed.1'], df['speed.2'], df['speed.3']], axis=1)\n",
    "speed_data['mean'] = speed_data.mean(axis=1)\n",
    "\n",
    "# smooth data\n",
    "window_size = 6  \n",
    "smoothed_data = speed_data.rolling(window_size, center=True).mean()\n",
    "speed_data_smoothed = smoothed_data\n",
    "\n",
    "\n",
    "# set theshold\n",
    "def assign_feature(mean):\n",
    "    if mean < 2:\n",
    "        return 1\n",
    "    else:\n",
    "        return 0\n",
    "\n",
    "speed_data_smoothed['freezing'] = speed_data_smoothed['mean'].apply(assign_feature)"
   ]
  }
 ],
 "metadata": {
  "kernelspec": {
   "display_name": "Python 3 (ipykernel)",
   "language": "python",
   "name": "python3"
  },
  "language_info": {
   "codemirror_mode": {
    "name": "ipython",
    "version": 3
   },
   "file_extension": ".py",
   "mimetype": "text/x-python",
   "name": "python",
   "nbconvert_exporter": "python",
   "pygments_lexer": "ipython3",
   "version": "3.10.9"
  }
 },
 "nbformat": 4,
 "nbformat_minor": 5
}
